{
 "cells": [
  {
   "cell_type": "code",
   "execution_count": 9,
   "metadata": {},
   "outputs": [
    {
     "name": "stdout",
     "output_type": "stream",
     "text": [
      "Success\n",
      "40\n"
     ]
    }
   ],
   "source": [
    "move = [\n",
    "    [0,1],\n",
    "    [1,0],\n",
    "    [0,-1],\n",
    "    [-1,0]\n",
    "]\n",
    "\n",
    "matrix = [\n",
    "    [0, 0, 0, 0],\n",
    "    [0, 1, 1, 0],\n",
    "    [0, 0, 0, 1],\n",
    "    [1, 1, 0, 0]\n",
    "]\n",
    "path = []\n",
    "def dfs(a, b, goal_a, goal_b, matrix):\n",
    "    # Check if out of bounds or if cell is a wall\n",
    "    if a < 0 or b < 0 or a >= len(matrix) or b >= len(matrix[0]) or matrix[a][b] == 1:\n",
    "        return\n",
    "    # If goal is reached\n",
    "    if a == goal_a and b == goal_b:\n",
    "        print(\"Success\")\n",
    "        return\n",
    "    # Mark the cell as visited\n",
    "    matrix[a][b] = 1\n",
    "    # Explore neighbors\n",
    "    for i in range(4):\n",
    "        path.append([a + move[i][0],b + move[i][1]])\n",
    "        dfs(a + move[i][0], b + move[i][1], goal_a, goal_b, matrix)\n",
    "    # Unmark the cell (backtracking)\n",
    "    matrix[a][b] = 0\n",
    "# Call the function\n",
    "dfs(0, 0, 3, 3, matrix)\n",
    "print(len(path))"
   ]
  }
 ],
 "metadata": {
  "kernelspec": {
   "display_name": "base",
   "language": "python",
   "name": "python3"
  },
  "language_info": {
   "codemirror_mode": {
    "name": "ipython",
    "version": 3
   },
   "file_extension": ".py",
   "mimetype": "text/x-python",
   "name": "python",
   "nbconvert_exporter": "python",
   "pygments_lexer": "ipython3",
   "version": "3.10.9"
  }
 },
 "nbformat": 4,
 "nbformat_minor": 2
}
